{
 "cells": [
  {
   "cell_type": "markdown",
   "metadata": {},
   "source": [
    "# Large scale text analysis with deep learning (3 points)\n",
    "\n",
    "Today we're gonna apply the newly learned tools for the task of predicting job salary.\n",
    "\n",
    "<img src=\"https://storage.googleapis.com/kaggle-competitions/kaggle/3342/media/salary%20prediction%20engine%20v2.png\" width=400px>\n",
    "\n",
    "_Special thanks to [Oleg Vasilev](https://github.com/Omrigan/) for the core assignment idea._"
   ]
  },
  {
   "cell_type": "code",
   "execution_count": 1,
   "metadata": {},
   "outputs": [],
   "source": [
    "import numpy as np\n",
    "import pandas as pd\n",
    "import matplotlib.pyplot as plt\n",
    "%matplotlib inline"
   ]
  },
  {
   "cell_type": "markdown",
   "metadata": {},
   "source": [
    "### About the challenge\n",
    "For starters, let's download and unpack the data from [here]. \n",
    "\n",
    "You can also get it from [yadisk url](https://yadi.sk/d/vVEOWPFY3NruT7) the competition [page](https://www.kaggle.com/c/job-salary-prediction/data) (pick `Train_rev1.*`)."
   ]
  },
  {
   "cell_type": "code",
   "execution_count": 2,
   "metadata": {
    "tags": []
   },
   "outputs": [
    {
     "name": "stdout",
     "output_type": "stream",
     "text": [
      "File ‘/data/drbelikov//nlp_course/week02/Train_rev1.zip’ already there; not retrieving.\n",
      "\n",
      "Archive:  /data/drbelikov//nlp_course/week02//Train_rev1.zip\n",
      "  inflating: /data/drbelikov//nlp_course/week02/Train_rev1.csv  \n"
     ]
    },
    {
     "data": {
      "text/plain": [
       "(244768, 12)"
      ]
     },
     "execution_count": 2,
     "metadata": {},
     "output_type": "execute_result"
    }
   ],
   "source": [
    "import os\n",
    "\n",
    "if os.environ.get('DATA_DIR'):\n",
    "    data_dir = os.environ.get('DATA_DIR') + '/nlp_course/week02/'\n",
    "else:\n",
    "    data_dir = '.'\n",
    "\n",
    "!wget -nc https://ysda-seminars.s3.eu-central-1.amazonaws.com/Train_rev1.zip -P {data_dir}\n",
    "!unzip -o {data_dir}/Train_rev1.zip -d {data_dir}\n",
    "\n",
    "data = pd.read_csv(data_dir + 'Train_rev1.csv', index_col=None)\n",
    "data.shape"
   ]
  },
  {
   "cell_type": "code",
   "execution_count": 3,
   "metadata": {},
   "outputs": [
    {
     "data": {
      "text/html": [
       "<div>\n",
       "<style scoped>\n",
       "    .dataframe tbody tr th:only-of-type {\n",
       "        vertical-align: middle;\n",
       "    }\n",
       "\n",
       "    .dataframe tbody tr th {\n",
       "        vertical-align: top;\n",
       "    }\n",
       "\n",
       "    .dataframe thead th {\n",
       "        text-align: right;\n",
       "    }\n",
       "</style>\n",
       "<table border=\"1\" class=\"dataframe\">\n",
       "  <thead>\n",
       "    <tr style=\"text-align: right;\">\n",
       "      <th></th>\n",
       "      <th>Id</th>\n",
       "      <th>Title</th>\n",
       "      <th>FullDescription</th>\n",
       "      <th>LocationRaw</th>\n",
       "      <th>LocationNormalized</th>\n",
       "      <th>ContractType</th>\n",
       "      <th>ContractTime</th>\n",
       "      <th>Company</th>\n",
       "      <th>Category</th>\n",
       "      <th>SalaryRaw</th>\n",
       "      <th>SalaryNormalized</th>\n",
       "      <th>SourceName</th>\n",
       "    </tr>\n",
       "  </thead>\n",
       "  <tbody>\n",
       "    <tr>\n",
       "      <th>0</th>\n",
       "      <td>12612628</td>\n",
       "      <td>Engineering Systems Analyst</td>\n",
       "      <td>Engineering Systems Analyst Dorking Surrey Sal...</td>\n",
       "      <td>Dorking, Surrey, Surrey</td>\n",
       "      <td>Dorking</td>\n",
       "      <td>NaN</td>\n",
       "      <td>permanent</td>\n",
       "      <td>Gregory Martin International</td>\n",
       "      <td>Engineering Jobs</td>\n",
       "      <td>20000 - 30000/annum 20-30K</td>\n",
       "      <td>25000</td>\n",
       "      <td>cv-library.co.uk</td>\n",
       "    </tr>\n",
       "    <tr>\n",
       "      <th>1</th>\n",
       "      <td>12612830</td>\n",
       "      <td>Stress Engineer Glasgow</td>\n",
       "      <td>Stress Engineer Glasgow Salary **** to **** We...</td>\n",
       "      <td>Glasgow, Scotland, Scotland</td>\n",
       "      <td>Glasgow</td>\n",
       "      <td>NaN</td>\n",
       "      <td>permanent</td>\n",
       "      <td>Gregory Martin International</td>\n",
       "      <td>Engineering Jobs</td>\n",
       "      <td>25000 - 35000/annum 25-35K</td>\n",
       "      <td>30000</td>\n",
       "      <td>cv-library.co.uk</td>\n",
       "    </tr>\n",
       "    <tr>\n",
       "      <th>2</th>\n",
       "      <td>12612844</td>\n",
       "      <td>Modelling and simulation analyst</td>\n",
       "      <td>Mathematical Modeller / Simulation Analyst / O...</td>\n",
       "      <td>Hampshire, South East, South East</td>\n",
       "      <td>Hampshire</td>\n",
       "      <td>NaN</td>\n",
       "      <td>permanent</td>\n",
       "      <td>Gregory Martin International</td>\n",
       "      <td>Engineering Jobs</td>\n",
       "      <td>20000 - 40000/annum 20-40K</td>\n",
       "      <td>30000</td>\n",
       "      <td>cv-library.co.uk</td>\n",
       "    </tr>\n",
       "    <tr>\n",
       "      <th>3</th>\n",
       "      <td>12613049</td>\n",
       "      <td>Engineering Systems Analyst / Mathematical Mod...</td>\n",
       "      <td>Engineering Systems Analyst / Mathematical Mod...</td>\n",
       "      <td>Surrey, South East, South East</td>\n",
       "      <td>Surrey</td>\n",
       "      <td>NaN</td>\n",
       "      <td>permanent</td>\n",
       "      <td>Gregory Martin International</td>\n",
       "      <td>Engineering Jobs</td>\n",
       "      <td>25000 - 30000/annum 25K-30K negotiable</td>\n",
       "      <td>27500</td>\n",
       "      <td>cv-library.co.uk</td>\n",
       "    </tr>\n",
       "    <tr>\n",
       "      <th>4</th>\n",
       "      <td>12613647</td>\n",
       "      <td>Pioneer, Miser Engineering Systems Analyst</td>\n",
       "      <td>Pioneer, Miser  Engineering Systems Analyst Do...</td>\n",
       "      <td>Surrey, South East, South East</td>\n",
       "      <td>Surrey</td>\n",
       "      <td>NaN</td>\n",
       "      <td>permanent</td>\n",
       "      <td>Gregory Martin International</td>\n",
       "      <td>Engineering Jobs</td>\n",
       "      <td>20000 - 30000/annum 20-30K</td>\n",
       "      <td>25000</td>\n",
       "      <td>cv-library.co.uk</td>\n",
       "    </tr>\n",
       "  </tbody>\n",
       "</table>\n",
       "</div>"
      ],
      "text/plain": [
       "         Id                                              Title  \\\n",
       "0  12612628                        Engineering Systems Analyst   \n",
       "1  12612830                            Stress Engineer Glasgow   \n",
       "2  12612844                   Modelling and simulation analyst   \n",
       "3  12613049  Engineering Systems Analyst / Mathematical Mod...   \n",
       "4  12613647         Pioneer, Miser Engineering Systems Analyst   \n",
       "\n",
       "                                     FullDescription  \\\n",
       "0  Engineering Systems Analyst Dorking Surrey Sal...   \n",
       "1  Stress Engineer Glasgow Salary **** to **** We...   \n",
       "2  Mathematical Modeller / Simulation Analyst / O...   \n",
       "3  Engineering Systems Analyst / Mathematical Mod...   \n",
       "4  Pioneer, Miser  Engineering Systems Analyst Do...   \n",
       "\n",
       "                         LocationRaw LocationNormalized ContractType  \\\n",
       "0            Dorking, Surrey, Surrey            Dorking          NaN   \n",
       "1        Glasgow, Scotland, Scotland            Glasgow          NaN   \n",
       "2  Hampshire, South East, South East          Hampshire          NaN   \n",
       "3     Surrey, South East, South East             Surrey          NaN   \n",
       "4     Surrey, South East, South East             Surrey          NaN   \n",
       "\n",
       "  ContractTime                       Company          Category  \\\n",
       "0    permanent  Gregory Martin International  Engineering Jobs   \n",
       "1    permanent  Gregory Martin International  Engineering Jobs   \n",
       "2    permanent  Gregory Martin International  Engineering Jobs   \n",
       "3    permanent  Gregory Martin International  Engineering Jobs   \n",
       "4    permanent  Gregory Martin International  Engineering Jobs   \n",
       "\n",
       "                                SalaryRaw  SalaryNormalized        SourceName  \n",
       "0              20000 - 30000/annum 20-30K             25000  cv-library.co.uk  \n",
       "1              25000 - 35000/annum 25-35K             30000  cv-library.co.uk  \n",
       "2              20000 - 40000/annum 20-40K             30000  cv-library.co.uk  \n",
       "3  25000 - 30000/annum 25K-30K negotiable             27500  cv-library.co.uk  \n",
       "4              20000 - 30000/annum 20-30K             25000  cv-library.co.uk  "
      ]
     },
     "execution_count": 3,
     "metadata": {},
     "output_type": "execute_result"
    }
   ],
   "source": [
    "data.head()"
   ]
  },
  {
   "cell_type": "markdown",
   "metadata": {},
   "source": [
    "One problem with salary prediction is that it's oddly distributed: there are many people who are paid standard salaries and a few that get tons o money. The distribution is fat-tailed on the right side, which is inconvenient for MSE minimization.\n",
    "\n",
    "There are several techniques to combat this: using a different loss function, predicting log-target instead of raw target or even replacing targets with their percentiles among all salaries in the training set. We gonna use logarithm for now.\n",
    "\n",
    "_You can read more [in the official description](https://www.kaggle.com/c/job-salary-prediction#description)._"
   ]
  },
  {
   "cell_type": "code",
   "execution_count": 4,
   "metadata": {},
   "outputs": [
    {
     "data": {
      "image/png": "[encoded data removed]",
      "text/plain": [
       "<Figure size 576x288 with 2 Axes>"
      ]
     },
     "metadata": {
      "needs_background": "light"
     },
     "output_type": "display_data"
    }
   ],
   "source": [
    "data['Log1pSalary'] = np.log1p(data['SalaryNormalized']).astype('float32')\n",
    "\n",
    "plt.figure(figsize=[8, 4])\n",
    "plt.subplot(1, 2, 1)\n",
    "plt.hist(data[\"SalaryNormalized\"], bins=20);\n",
    "\n",
    "plt.subplot(1, 2, 2)\n",
    "plt.hist(data['Log1pSalary'], bins=20);"
   ]
  },
  {
   "cell_type": "markdown",
   "metadata": {},
   "source": [
    "Our task is to predict one number, __Log1pSalary__.\n",
    "\n",
    "To do so, our model can access a number of features:\n",
    "* Free text: __`Title`__ and  __`FullDescription`__\n",
    "* Categorical: __`Category`__, __`Company`__, __`LocationNormalized`__, __`ContractType`__, and __`ContractTime`__."
   ]
  },
  {
   "cell_type": "code",
   "execution_count": 5,
   "metadata": {},
   "outputs": [
    {
     "data": {
      "text/html": [
       "<div>\n",
       "<style scoped>\n",
       "    .dataframe tbody tr th:only-of-type {\n",
       "        vertical-align: middle;\n",
       "    }\n",
       "\n",
       "    .dataframe tbody tr th {\n",
       "        vertical-align: top;\n",
       "    }\n",
       "\n",
       "    .dataframe thead th {\n",
       "        text-align: right;\n",
       "    }\n",
       "</style>\n",
       "<table border=\"1\" class=\"dataframe\">\n",
       "  <thead>\n",
       "    <tr style=\"text-align: right;\">\n",
       "      <th></th>\n",
       "      <th>Id</th>\n",
       "      <th>Title</th>\n",
       "      <th>FullDescription</th>\n",
       "      <th>LocationRaw</th>\n",
       "      <th>LocationNormalized</th>\n",
       "      <th>ContractType</th>\n",
       "      <th>ContractTime</th>\n",
       "      <th>Company</th>\n",
       "      <th>Category</th>\n",
       "      <th>SalaryRaw</th>\n",
       "      <th>SalaryNormalized</th>\n",
       "      <th>SourceName</th>\n",
       "      <th>Log1pSalary</th>\n",
       "    </tr>\n",
       "  </thead>\n",
       "  <tbody>\n",
       "    <tr>\n",
       "      <th>103680</th>\n",
       "      <td>69560312</td>\n",
       "      <td>cnc Programmer Miller/Turner</td>\n",
       "      <td>CNC Programmer Turner/miller Do you have a pas...</td>\n",
       "      <td>Pontypool, Gwent</td>\n",
       "      <td>UK</td>\n",
       "      <td>NaN</td>\n",
       "      <td>permanent</td>\n",
       "      <td>Link 2 Recruit</td>\n",
       "      <td>Engineering Jobs</td>\n",
       "      <td>24000 - 26000/annum</td>\n",
       "      <td>25000</td>\n",
       "      <td>cv-library.co.uk</td>\n",
       "      <td>10.126671</td>\n",
       "    </tr>\n",
       "    <tr>\n",
       "      <th>236316</th>\n",
       "      <td>72556839</td>\n",
       "      <td>Carpenter</td>\n",
       "      <td>This job is being advertised on behalf of Blue...</td>\n",
       "      <td>Bristol</td>\n",
       "      <td>Bristol</td>\n",
       "      <td>full_time</td>\n",
       "      <td>NaN</td>\n",
       "      <td>Bluebell Management Services</td>\n",
       "      <td>Trade &amp; Construction Jobs</td>\n",
       "      <td>9.00 per hour</td>\n",
       "      <td>17280</td>\n",
       "      <td>Jobcentre Plus</td>\n",
       "      <td>9.757363</td>\n",
       "    </tr>\n",
       "    <tr>\n",
       "      <th>36225</th>\n",
       "      <td>68248160</td>\n",
       "      <td>Optometrist Vacancy in the Isle of Wight  Fant...</td>\n",
       "      <td>Vivid Solutions are looking for an ambitious a...</td>\n",
       "      <td>Isle Of Wight, Channel Islands</td>\n",
       "      <td>UK</td>\n",
       "      <td>NaN</td>\n",
       "      <td>NaN</td>\n",
       "      <td>Vivid Solutions</td>\n",
       "      <td>Healthcare &amp; Nursing Jobs</td>\n",
       "      <td>up to 55,000 + benefits</td>\n",
       "      <td>55000</td>\n",
       "      <td>jobs.opticianonline.net</td>\n",
       "      <td>10.915107</td>\n",
       "    </tr>\n",
       "  </tbody>\n",
       "</table>\n",
       "</div>"
      ],
      "text/plain": [
       "              Id                                              Title  \\\n",
       "103680  69560312                       cnc Programmer Miller/Turner   \n",
       "236316  72556839                                          Carpenter   \n",
       "36225   68248160  Optometrist Vacancy in the Isle of Wight  Fant...   \n",
       "\n",
       "                                          FullDescription  \\\n",
       "103680  CNC Programmer Turner/miller Do you have a pas...   \n",
       "236316  This job is being advertised on behalf of Blue...   \n",
       "36225   Vivid Solutions are looking for an ambitious a...   \n",
       "\n",
       "                           LocationRaw LocationNormalized ContractType  \\\n",
       "103680                Pontypool, Gwent                 UK          NaN   \n",
       "236316                         Bristol            Bristol    full_time   \n",
       "36225   Isle Of Wight, Channel Islands                 UK          NaN   \n",
       "\n",
       "       ContractTime                       Company                   Category  \\\n",
       "103680    permanent                Link 2 Recruit           Engineering Jobs   \n",
       "236316          NaN  Bluebell Management Services  Trade & Construction Jobs   \n",
       "36225           NaN               Vivid Solutions  Healthcare & Nursing Jobs   \n",
       "\n",
       "                      SalaryRaw  SalaryNormalized               SourceName  \\\n",
       "103680      24000 - 26000/annum             25000         cv-library.co.uk   \n",
       "236316            9.00 per hour             17280           Jobcentre Plus   \n",
       "36225   up to 55,000 + benefits             55000  jobs.opticianonline.net   \n",
       "\n",
       "        Log1pSalary  \n",
       "103680    10.126671  \n",
       "236316     9.757363  \n",
       "36225     10.915107  "
      ]
     },
     "execution_count": 5,
     "metadata": {},
     "output_type": "execute_result"
    }
   ],
   "source": [
    "text_columns = [\"Title\", \"FullDescription\"]\n",
    "categorical_columns = [\"Category\", \"Company\", \"LocationNormalized\", \"ContractType\", \"ContractTime\"]\n",
    "TARGET_COLUMN = \"Log1pSalary\"\n",
    "\n",
    "data['Title'] = data['Title'].fillna('')\n",
    "data[categorical_columns] = data[categorical_columns].fillna('NaN') # cast missing values to string \"NaN\"\n",
    "\n",
    "data.sample(3)"
   ]
  },
  {
   "cell_type": "markdown",
   "metadata": {},
   "source": [
    "### Preprocessing text data\n",
    "\n",
    "Just like last week, applying NLP to a problem begins from tokenization: splitting raw text into sequences of tokens (words, punctuation, etc).\n",
    "\n",
    "__Your task__ is to lowercase and tokenize all texts under `Title` and `FullDescription` columns. Store the tokenized data as a __space-separated__ string of tokens for performance reasons.\n",
    "\n",
    "It's okay to use nltk tokenizers. Assertions were designed for WordPunctTokenizer, slight deviations are okay."
   ]
  },
  {
   "cell_type": "code",
   "execution_count": 6,
   "metadata": {
    "scrolled": true
   },
   "outputs": [
    {
     "name": "stdout",
     "output_type": "stream",
     "text": [
      "Raw text:\n",
      "2         Mathematical Modeller / Simulation Analyst / O...\n",
      "100002    A successful and high achieving specialist sch...\n",
      "200002    Web Designer  HTML, CSS, JavaScript, Photoshop...\n",
      "Name: FullDescription, dtype: object\n"
     ]
    }
   ],
   "source": [
    "print(\"Raw text:\")\n",
    "print(data[\"FullDescription\"][2::100000])"
   ]
  },
  {
   "cell_type": "code",
   "execution_count": 7,
   "metadata": {},
   "outputs": [],
   "source": [
    "import nltk\n",
    "\n",
    "tokenizer = nltk.tokenize.WordPunctTokenizer()\n",
    "for column in text_columns:\n",
    "    data[column] = data[column].map(lambda sentence: ' '.join(tokenizer.tokenize(sentence.lower())))"
   ]
  },
  {
   "cell_type": "markdown",
   "metadata": {},
   "source": [
    "Now we can assume that our text is a space-separated list of tokens:"
   ]
  },
  {
   "cell_type": "code",
   "execution_count": 8,
   "metadata": {},
   "outputs": [
    {
     "name": "stdout",
     "output_type": "stream",
     "text": [
      "Tokenized:\n",
      "2         mathematical modeller / simulation analyst / o...\n",
      "100002    a successful and high achieving specialist sch...\n",
      "200002    web designer html , css , javascript , photosh...\n",
      "Name: FullDescription, dtype: object\n"
     ]
    }
   ],
   "source": [
    "print(\"Tokenized:\")\n",
    "print(data[\"FullDescription\"][2::100000])\n",
    "assert data[\"FullDescription\"][2][:50] == 'mathematical modeller / simulation analyst / opera'\n",
    "assert data[\"Title\"][54321] == 'international digital account manager ( german )'"
   ]
  },
  {
   "cell_type": "markdown",
   "metadata": {},
   "source": [
    "Not all words are equally useful. Some of them are typos or rare words that are only present a few times. \n",
    "\n",
    "Let's count how many times is each word present in the data so that we can build a \"white list\" of known words."
   ]
  },
  {
   "cell_type": "code",
   "execution_count": 9,
   "metadata": {},
   "outputs": [],
   "source": [
    "from collections import Counter\n",
    "token_counts = Counter()\n",
    "\n",
    "for column in text_columns:\n",
    "    for sentence in data[column]:\n",
    "        token_counts.update(sentence.split())"
   ]
  },
  {
   "cell_type": "code",
   "execution_count": 10,
   "metadata": {},
   "outputs": [
    {
     "name": "stdout",
     "output_type": "stream",
     "text": [
      "Total unique tokens : 202704\n",
      "('and', 2657388)\n",
      "('.', 2523216)\n",
      "(',', 2318606)\n",
      "('the', 2080994)\n",
      "('to', 2019884)\n",
      "...\n",
      "('stephanietraveltraderecruitmnt', 1)\n",
      "('ruabon', 1)\n",
      "('lowehays', 1)\n",
      "Correct!\n"
     ]
    }
   ],
   "source": [
    "print(\"Total unique tokens :\", len(token_counts))\n",
    "print('\\n'.join(map(str, token_counts.most_common(n=5))))\n",
    "print('...')\n",
    "print('\\n'.join(map(str, token_counts.most_common()[-3:])))\n",
    "\n",
    "assert token_counts.most_common(1)[0][1] in  range(2600000, 2700000)\n",
    "assert len(token_counts) in range(200000, 210000)\n",
    "print('Correct!')"
   ]
  },
  {
   "cell_type": "code",
   "execution_count": 11,
   "metadata": {},
   "outputs": [
    {
     "data": {
      "image/png": "[encoded data removed]",
      "text/plain": [
       "<Figure size 432x288 with 1 Axes>"
      ]
     },
     "metadata": {
      "needs_background": "light"
     },
     "output_type": "display_data"
    }
   ],
   "source": [
    "# Let's see how many words are there for each count\n",
    "plt.hist(list(token_counts.values()), range=[0, 10**4], bins=50, log=True)\n",
    "plt.xlabel(\"Word counts\");"
   ]
  },
  {
   "cell_type": "markdown",
   "metadata": {},
   "source": [
    "__Task 1.1__ Get a list of all tokens that occur at least 10 times."
   ]
  },
  {
   "cell_type": "code",
   "execution_count": 12,
   "metadata": {},
   "outputs": [],
   "source": [
    "min_count = 10\n",
    "\n",
    "# tokens from token_counts keys that had at least min_count occurrences throughout the dataset\n",
    "tokens = sorted(t for t, c in token_counts.items() if c >= min_count)#TODO<YOUR CODE HERE>\n",
    "\n",
    "# Add a special tokens for unknown and empty words\n",
    "UNK, PAD = \"UNK\", \"PAD\"\n",
    "tokens = [UNK, PAD] + tokens"
   ]
  },
  {
   "cell_type": "code",
   "execution_count": 13,
   "metadata": {},
   "outputs": [
    {
     "name": "stdout",
     "output_type": "stream",
     "text": [
      "Vocabulary size: 34158\n",
      "Correct!\n"
     ]
    }
   ],
   "source": [
    "print(\"Vocabulary size:\", len(tokens))\n",
    "assert type(tokens) == list\n",
    "assert len(tokens) in range(32000, 35000)\n",
    "assert 'me' in tokens\n",
    "assert UNK in tokens\n",
    "print(\"Correct!\")"
   ]
  },
  {
   "cell_type": "markdown",
   "metadata": {},
   "source": [
    "__Task 1.2__ Build an inverse token index: a dictionary from token(string) to it's index in `tokens` (int)"
   ]
  },
  {
   "cell_type": "code",
   "execution_count": 14,
   "metadata": {},
   "outputs": [],
   "source": [
    "token_to_id = {t: i for i, t in enumerate(tokens)}#TODO<your code here>"
   ]
  },
  {
   "cell_type": "code",
   "execution_count": 15,
   "metadata": {},
   "outputs": [
    {
     "name": "stdout",
     "output_type": "stream",
     "text": [
      "Correct!\n"
     ]
    }
   ],
   "source": [
    "assert isinstance(token_to_id, dict)\n",
    "assert len(token_to_id) == len(tokens)\n",
    "for tok in tokens:\n",
    "    assert tokens[token_to_id[tok]] == tok\n",
    "\n",
    "print(\"Correct!\")"
   ]
  },
  {
   "cell_type": "markdown",
   "metadata": {},
   "source": [
    "And finally, let's use the vocabulary you've built to map text lines into neural network-digestible matrices."
   ]
  },
  {
   "cell_type": "code",
   "execution_count": 16,
   "metadata": {},
   "outputs": [],
   "source": [
    "UNK_IX, PAD_IX = map(token_to_id.get, [UNK, PAD])\n",
    "\n",
    "def as_matrix(sequences, max_len=None, min_len=3):\n",
    "    \"\"\" Convert a list of tokens into a matrix with padding \"\"\"\n",
    "    if isinstance(sequences[0], str):\n",
    "        sequences = list(map(str.split, sequences))\n",
    "        \n",
    "    max_len = min(max(map(len, sequences)), max_len or float('inf'))\n",
    "    max_len = max(max_len, min_len)\n",
    "    \n",
    "    matrix = np.full((len(sequences), max_len), np.int32(PAD_IX))\n",
    "    for i,seq in enumerate(sequences):\n",
    "        row_ix = [token_to_id.get(word, UNK_IX) for word in seq[:max_len]]\n",
    "        matrix[i, :len(row_ix)] = row_ix\n",
    "    \n",
    "    return matrix"
   ]
  },
  {
   "cell_type": "code",
   "execution_count": 17,
   "metadata": {},
   "outputs": [
    {
     "name": "stdout",
     "output_type": "stream",
     "text": [
      "Lines:\n",
      "engineering systems analyst\n",
      "hr assistant\n",
      "senior ec & i engineer\n",
      "\n",
      "Matrix:\n",
      "[[10807 30161  2166     1     1]\n",
      " [15020  2844     1     1     1]\n",
      " [27645 10201    16 15215 10804]]\n"
     ]
    }
   ],
   "source": [
    "print(\"Lines:\")\n",
    "print('\\n'.join(data[\"Title\"][::100000].values), end='\\n\\n')\n",
    "print(\"Matrix:\")\n",
    "print(as_matrix(data[\"Title\"][::100000]))"
   ]
  },
  {
   "cell_type": "markdown",
   "metadata": {},
   "source": [
    "Now let's  encode the categirical data we have.\n",
    "\n",
    "As usual, we shall use one-hot encoding for simplicity. Kudos if you implement more advanced encodings: tf-idf, pseudo-time-series, etc."
   ]
  },
  {
   "cell_type": "code",
   "execution_count": 18,
   "metadata": {},
   "outputs": [
    {
     "data": {
      "text/plain": [
       "DictVectorizer(dtype=<class 'numpy.float32'>, sparse=False)"
      ]
     },
     "execution_count": 18,
     "metadata": {},
     "output_type": "execute_result"
    }
   ],
   "source": [
    "from sklearn.feature_extraction import DictVectorizer\n",
    "\n",
    "# we only consider top-1k most frequent companies to minimize memory usage\n",
    "top_companies, top_counts = zip(*Counter(data['Company']).most_common(1000))\n",
    "recognized_companies = set(top_companies)\n",
    "data[\"Company\"] = data[\"Company\"].apply(lambda comp: comp if comp in recognized_companies else \"Other\")\n",
    "\n",
    "categorical_vectorizer = DictVectorizer(dtype=np.float32, sparse=False)\n",
    "categorical_vectorizer.fit(data[categorical_columns].apply(dict, axis=1))"
   ]
  },
  {
   "cell_type": "markdown",
   "metadata": {},
   "source": [
    "### The deep learning part\n",
    "\n",
    "Once we've learned to tokenize the data, let's design a machine learning experiment.\n",
    "\n",
    "As before, we won't focus too much on validation, opting for a simple train-test split.\n",
    "\n",
    "__To be completely rigorous,__ we've comitted a small crime here: we used the whole data for tokenization and vocabulary building. A more strict way would be to do that part on training set only. You may want to do that and measure the magnitude of changes."
   ]
  },
  {
   "cell_type": "code",
   "execution_count": 19,
   "metadata": {},
   "outputs": [
    {
     "name": "stdout",
     "output_type": "stream",
     "text": [
      "Train size =  195814\n",
      "Validation size =  48954\n"
     ]
    }
   ],
   "source": [
    "from sklearn.model_selection import train_test_split\n",
    "\n",
    "data_train, data_val = train_test_split(data, test_size=0.2, random_state=42)\n",
    "data_train.index = range(len(data_train))\n",
    "data_val.index = range(len(data_val))\n",
    "\n",
    "print(\"Train size = \", len(data_train))\n",
    "print(\"Validation size = \", len(data_val))"
   ]
  },
  {
   "cell_type": "code",
   "execution_count": 20,
   "metadata": {},
   "outputs": [],
   "source": [
    "import torch\n",
    "\n",
    "def to_tensors(batch):\n",
    "    batch_tensors = dict()\n",
    "    for key, arr in batch.items():\n",
    "        if key in [\"FullDescription\", \"Title\"]:\n",
    "            batch_tensors[key] = torch.tensor(arr, dtype=torch.int64)\n",
    "        else:\n",
    "            batch_tensors[key] = torch.tensor(arr)\n",
    "    return batch_tensors\n",
    "\n",
    "def make_batch(data, device, max_len=None, word_dropout=0):\n",
    "    \"\"\"\n",
    "    Creates a keras-friendly dict from the batch data.\n",
    "    :param word_dropout: replaces token index with UNK_IX with this probability\n",
    "    :returns: a dict with {'title' : int64[batch, title_max_len]\n",
    "    \"\"\"\n",
    "    batch = {}\n",
    "    batch[\"Title\"] = as_matrix(data[\"Title\"].values, max_len)\n",
    "    batch[\"FullDescription\"] = as_matrix(data[\"FullDescription\"].values, max_len)\n",
    "    batch['Categorical'] = categorical_vectorizer.transform(data[categorical_columns].apply(dict, axis=1))\n",
    "    \n",
    "    if word_dropout != 0:\n",
    "        batch[\"FullDescription\"] = apply_word_dropout(batch[\"FullDescription\"], 1. - word_dropout)\n",
    "    \n",
    "    if TARGET_COLUMN in data.columns:\n",
    "        batch[TARGET_COLUMN] = data[TARGET_COLUMN].values\n",
    "    \n",
    "    cpu_batch = to_tensors(batch)\n",
    "    device_batch = {key: tensor.to(device) for key, tensor in cpu_batch.items()}\n",
    "    return device_batch\n",
    "\n",
    "def apply_word_dropout(matrix, keep_prop, replace_with=UNK_IX, pad_ix=PAD_IX):\n",
    "    dropout_mask = np.random.choice(2, np.shape(matrix), p=[keep_prop, 1 - keep_prop])\n",
    "    dropout_mask &= matrix != pad_ix\n",
    "    return np.choose(dropout_mask, [matrix, np.full_like(matrix, replace_with)])"
   ]
  },
  {
   "cell_type": "code",
   "execution_count": 21,
   "metadata": {
    "scrolled": true
   },
   "outputs": [
    {
     "data": {
      "text/plain": [
       "{'Title': tensor([[27645, 29893, 33674,     1,     1,     1,     1],\n",
       "         [29239,   197, 19175, 20042, 15554, 23162,  4051],\n",
       "         [10609, 30412, 17746,    33,  8705, 29157,    65]]),\n",
       " 'FullDescription': tensor([[27645, 29893, 33674, 32939,   982, 27645, 29893, 33674, 16451, 32939],\n",
       "         [29239,   197, 19175, 20042, 15554, 23162,  4051, 25511,   907,    82],\n",
       "         [30746, 21956, 20601,  6409, 16451,  8165, 27493,   982, 30412, 17746]]),\n",
       " 'Categorical': tensor([[0., 0., 0.,  ..., 0., 0., 0.],\n",
       "         [0., 0., 0.,  ..., 0., 0., 0.],\n",
       "         [0., 0., 0.,  ..., 0., 0., 0.]]),\n",
       " 'Log1pSalary': tensor([ 9.7115, 10.4631, 10.7144])}"
      ]
     },
     "execution_count": 21,
     "metadata": {},
     "output_type": "execute_result"
    }
   ],
   "source": [
    "make_batch(data_train[:3], torch.device('cpu'), max_len=10)"
   ]
  },
  {
   "cell_type": "markdown",
   "metadata": {},
   "source": [
    "#### Architecture\n",
    "\n",
    "Our basic model consists of three branches:\n",
    "* Title encoder\n",
    "* Description encoder\n",
    "* Categorical features encoder\n",
    "\n",
    "We will then feed all 3 branches into one common network that predicts salary.\n",
    "\n",
    "![scheme](https://github.com/yandexdataschool/nlp_course/raw/master/resources/w2_conv_arch.png)"
   ]
  },
  {
   "cell_type": "markdown",
   "metadata": {},
   "source": [
    "This clearly doesn't fit into keras' __Sequential__ interface. To build such a network, one will have to use PyTorch."
   ]
  },
  {
   "cell_type": "code",
   "execution_count": 22,
   "metadata": {},
   "outputs": [],
   "source": [
    "import torch\n",
    "import torch.nn as nn\n",
    "import torch.functional as F"
   ]
  },
  {
   "cell_type": "code",
   "execution_count": 23,
   "metadata": {},
   "outputs": [],
   "source": [
    "class SalaryPredictor(nn.Module):\n",
    "    def __init__(self, n_tokens=len(tokens), n_cat_features=len(categorical_vectorizer.vocabulary_), hid_size=64):\n",
    "        super().__init__()\n",
    "        self.embedding = nn.Embedding(n_tokens, embedding_dim=hid_size)\n",
    "        self.title_encoder = nn.Sequential(\n",
    "            nn.Conv1d(hid_size, hid_size, kernel_size=3),\n",
    "            nn.ReLU(),\n",
    "            nn.AdaptiveMaxPool1d(4)\n",
    "        )\n",
    "        self.description_encoder = nn.Sequential(\n",
    "            nn.Conv1d(hid_size, hid_size, kernel_size=3),\n",
    "            nn.ReLU(),\n",
    "            nn.AdaptiveMaxPool1d(4)\n",
    "        )\n",
    "        self.categorical_encoder = nn.Sequential(\n",
    "            nn.Linear(n_cat_features, 4 * hid_size),\n",
    "            nn.ReLU(),\n",
    "            nn.Linear(4 * hid_size, 8 * hid_size),\n",
    "            nn.ReLU()\n",
    "        )\n",
    "        \n",
    "        self.predictor = nn.Sequential(\n",
    "            nn.Linear(16 * hid_size, 4 * hid_size),\n",
    "            nn.ReLU(),\n",
    "            nn.Linear(4 * hid_size, 1)\n",
    "        )\n",
    "        \n",
    "    def forward(self, batch):\n",
    "        title_embeddings = self.embedding(batch['Title']).transpose(1, 2)\n",
    "        title_features = self.title_encoder(title_embeddings).view(title_embeddings.shape[0], -1)\n",
    "        description_embeddings = self.embedding(batch['FullDescription']).transpose(1, 2)\n",
    "        description_features = self.description_encoder(description_embeddings).view(description_embeddings.shape[0], -1)\n",
    "        categorical_features = self.categorical_encoder(batch['Categorical'])\n",
    "        \n",
    "        features = torch.cat([title_features, description_features, categorical_features], axis=1)\n",
    "        return self.predictor(features).squeeze()"
   ]
  },
  {
   "cell_type": "code",
   "execution_count": 24,
   "metadata": {},
   "outputs": [],
   "source": [
    "model = SalaryPredictor()\n",
    "batch = make_batch(data_train[:100], torch.device('cpu'))\n",
    "criterion = nn.MSELoss()\n",
    "\n",
    "dummy_pred = model(batch)\n",
    "dummy_loss = criterion(dummy_pred, batch[TARGET_COLUMN])\n",
    "assert dummy_pred.shape == torch.Size([100])\n",
    "assert len(torch.unique(dummy_pred)) > 20, \"model returns suspiciously few unique outputs. Check your initialization\"\n",
    "assert dummy_loss.ndim == 0 and 0. <= dummy_loss <= 250., \"make sure you minimize MSE\""
   ]
  },
  {
   "cell_type": "markdown",
   "metadata": {},
   "source": [
    "#### Training and evaluation\n",
    "\n",
    "As usual, we gonna feed our monster with random minibatches of data. \n",
    "\n",
    "As we train, we want to monitor not only loss function, which is computed in log-space, but also the actual error measured in dollars."
   ]
  },
  {
   "cell_type": "code",
   "execution_count": 25,
   "metadata": {},
   "outputs": [],
   "source": [
    "def iterate_minibatches(data, device, batch_size=256, shuffle=True, cycle=False, **kwargs):\n",
    "    \"\"\" iterates minibatches of data in random order \"\"\"\n",
    "    while True:\n",
    "        indices = np.arange(0, len(data), batch_size)\n",
    "        if shuffle:\n",
    "            indices = np.random.permutation(indices)\n",
    "\n",
    "        for start in indices:\n",
    "            batch = make_batch(data.iloc[start : start + batch_size], device, **kwargs)\n",
    "            yield batch\n",
    "        \n",
    "        if not cycle: break"
   ]
  },
  {
   "cell_type": "markdown",
   "metadata": {},
   "source": [
    "### Model training\n",
    "\n",
    "We can now fit our model the usual minibatch way. The interesting part is that we train on an infinite stream of minibatches, produced by `iterate_minibatches` function."
   ]
  },
  {
   "cell_type": "code",
   "execution_count": 26,
   "metadata": {},
   "outputs": [],
   "source": [
    "from tqdm.notebook import tqdm\n",
    "\n",
    "BATCH_SIZE = 512\n",
    "EPOCHS = 10\n",
    "DEVICE = torch.device('cuda:0')"
   ]
  },
  {
   "cell_type": "code",
   "execution_count": 30,
   "metadata": {
    "tags": []
   },
   "outputs": [],
   "source": [
    "def get_metrics(model, data, batch_size=BATCH_SIZE, **kw):\n",
    "    squared_error = abs_error = num_samples = 0.0\n",
    "    model.eval()\n",
    "    with torch.no_grad():\n",
    "        for batch in iterate_minibatches(data, DEVICE, batch_size=batch_size, shuffle=False, **kw):\n",
    "            batch_pred = model(batch)\n",
    "            squared_error += torch.sum(torch.square(batch_pred - batch[TARGET_COLUMN]))\n",
    "            abs_error += torch.sum(torch.abs(batch_pred - batch[TARGET_COLUMN]))\n",
    "            num_samples += len(batch_pred)\n",
    "    mse = squared_error.detach().cpu().numpy() / num_samples\n",
    "    mae = abs_error.detach().cpu().numpy() / num_samples\n",
    "    return mse, mae"
   ]
  },
  {
   "cell_type": "code",
   "execution_count": 31,
   "metadata": {
    "tags": []
   },
   "outputs": [
    {
     "data": {
      "application/vnd.jupyter.widget-view+json": {
       "model_id": "25c785ec1d52454fbb20a7520892e424",
       "version_major": 2,
       "version_minor": 0
      },
      "text/plain": [
       "Epochs:   0%|          | 0/10 [00:00<?, ?it/s]"
      ]
     },
     "metadata": {},
     "output_type": "display_data"
    },
    {
     "name": "stdout",
     "output_type": "stream",
     "text": [
      "Validation mse: 0.099332\n",
      "Validation mae: 0.237426\n",
      "Train mse: 0.087689\n",
      "Train mae: 0.220440\n"
     ]
    }
   ],
   "source": [
    "def train(model, criterion, optimizer):\n",
    "    train_mses = []\n",
    "    train_maes = []\n",
    "    valid_mses = []\n",
    "    valid_maes = []\n",
    "    for epoch in tqdm(range(EPOCHS), desc='Epochs'):\n",
    "        model.train()\n",
    "        for batch in iterate_minibatches(data_train, batch_size=BATCH_SIZE, device=DEVICE):\n",
    "            pred = model(batch)\n",
    "            loss = criterion(pred, batch[TARGET_COLUMN])\n",
    "            optimizer.zero_grad()\n",
    "            loss.backward()\n",
    "            optimizer.step()\n",
    "        \n",
    "        train_mse, train_mae = get_metrics(model, data_train)\n",
    "        valid_mse, valid_mae = get_metrics(model, data_val)\n",
    "        train_mses.append(train_mse)\n",
    "        train_maes.append(train_mae)\n",
    "        valid_mses.append(valid_mse)\n",
    "        valid_maes.append(valid_mae)\n",
    "    return train_mses, train_maes, valid_mses, valid_maes\n",
    "\n",
    "model = SalaryPredictor().to(DEVICE)\n",
    "criterion = nn.MSELoss(reduction='mean')\n",
    "optimizer = torch.optim.Adam(model.parameters(), lr=1e-4)\n",
    "\n",
    "train_mses, train_maes, valid_mses, valid_maes = train(model, criterion, optimizer)\n",
    "print('Validation mse: %5f' % valid_mses[-1])\n",
    "print('Validation mae: %5f' % valid_maes[-1])\n",
    "print('Train mse: %5f' % train_mses[-1])\n",
    "print('Train mae: %5f' % train_maes[-1])"
   ]
  },
  {
   "cell_type": "code",
   "execution_count": 32,
   "metadata": {},
   "outputs": [
    {
     "data": {
      "text/plain": [
       "<matplotlib.legend.Legend at 0x7f18a44e0f98>"
      ]
     },
     "execution_count": 32,
     "metadata": {},
     "output_type": "execute_result"
    },
    {
     "data": {
      "image/png": "[encoded data removed]",
      "text/plain": [
       "<Figure size 1728x288 with 2 Axes>"
      ]
     },
     "metadata": {
      "needs_background": "light"
     },
     "output_type": "display_data"
    }
   ],
   "source": [
    "plt.figure(figsize=[24, 4])\n",
    "plt.subplot(1, 2, 1)\n",
    "plt.title('MSE')\n",
    "plt.plot(range(EPOCHS), train_mses, label='train')\n",
    "plt.plot(range(EPOCHS), valid_mses, label='validation')\n",
    "plt.legend()\n",
    "\n",
    "plt.subplot(1, 2, 2)\n",
    "plt.title('MAE')\n",
    "plt.plot(range(EPOCHS), train_maes, label='train')\n",
    "plt.plot(range(EPOCHS), valid_maes, label='validation')\n",
    "plt.legend()"
   ]
  },
  {
   "cell_type": "markdown",
   "metadata": {},
   "source": [
    "### Bonus part: explaining model predictions\n",
    "\n",
    "It's usually a good idea to understand how your model works before you let it make actual decisions. It's simple for linear models: just see which words learned positive or negative weights. However, its much harder for neural networks that learn complex nonlinear dependencies.\n",
    "\n",
    "There are, however, some ways to look inside the black box:\n",
    "* Seeing how model responds to input perturbations\n",
    "* Finding inputs that maximize/minimize activation of some chosen neurons (_read more [on distill.pub](https://distill.pub/2018/building-blocks/)_)\n",
    "* Building local linear approximations to your neural network: [article](https://arxiv.org/abs/1602.04938), [eli5 library](https://github.com/TeamHG-Memex/eli5/tree/master/eli5/formatters)\n",
    "\n",
    "Today we gonna try the first method just because it's the simplest one."
   ]
  },
  {
   "cell_type": "code",
   "execution_count": 33,
   "metadata": {},
   "outputs": [],
   "source": [
    "def explain(model, sample, col_name='Title'):\n",
    "    \"\"\" Computes the effect each word had on model predictions \"\"\"\n",
    "    sample = dict(sample)\n",
    "    sample_col_tokens = [tokens[token_to_id.get(tok, 0)] for tok in sample[col_name].split()]\n",
    "    data_drop_one_token = pd.DataFrame([sample] * (len(sample_col_tokens) + 1))\n",
    "\n",
    "    for drop_i in range(len(sample_col_tokens)):\n",
    "        data_drop_one_token.loc[drop_i, col_name] = ' '.join(UNK if i == drop_i else tok\n",
    "                                                   for i, tok in enumerate(sample_col_tokens)) \n",
    "    \n",
    "    *predictions_drop_one_token, baseline_pred = model(make_batch(data_drop_one_token, torch.device('cpu')))\n",
    "    predictions_drop_one_token_tensor = torch.stack(predictions_drop_one_token)\n",
    "    diffs = (baseline_pred - predictions_drop_one_token_tensor).detach().numpy()\n",
    "    return list(zip(sample_col_tokens, diffs))"
   ]
  },
  {
   "cell_type": "code",
   "execution_count": 34,
   "metadata": {},
   "outputs": [],
   "source": [
    "from IPython.display import HTML, display_html\n",
    "\n",
    "\n",
    "def draw_html(tokens_and_weights, cmap=plt.get_cmap(\"bwr\"), display=True,\n",
    "              token_template=\"\"\"<span style=\"background-color: {color_hex}\">{token}</span>\"\"\",\n",
    "              font_style=\"font-size:14px;\"\n",
    "             ):\n",
    "    \n",
    "    def get_color_hex(weight):\n",
    "        rgba = cmap(1. / (1 + np.exp(weight)), bytes=True)\n",
    "        return '#%02X%02X%02X' % rgba[:3]\n",
    "    \n",
    "    tokens_html = [\n",
    "        token_template.format(token=token, color_hex=get_color_hex(weight))\n",
    "        for token, weight in tokens_and_weights\n",
    "    ]\n",
    "    \n",
    "    \n",
    "    raw_html = \"\"\"<p style=\"{}\">{}</p>\"\"\".format(font_style, ' '.join(tokens_html))\n",
    "    if display:\n",
    "        display_html(HTML(raw_html))\n",
    "        \n",
    "    return raw_html\n",
    "    "
   ]
  },
  {
   "cell_type": "code",
   "execution_count": 35,
   "metadata": {
    "tags": []
   },
   "outputs": [
    {
     "data": {
      "text/html": [
       "<p style=\"font-size:20px;\"><span style=\"background-color: #CECEFF\">sales</span> <span style=\"background-color: #D2D2FF\">specialist</span> <span style=\"background-color: #FFE8E8\">iv</span> <span style=\"background-color: #F2F2FF\">access</span> <span style=\"background-color: #FFB6B6\">and</span> <span style=\"background-color: #FFE8E8\">infusion</span></p>"
      ]
     },
     "metadata": {},
     "output_type": "display_data"
    },
    {
     "data": {
      "text/html": [
       "<p style=\"font-size:14px;\"><span style=\"background-color: #FCFCFF\">sales</span> <span style=\"background-color: #FFF6F6\">representative</span> <span style=\"background-color: #FEFEFF\">medical</span> <span style=\"background-color: #FFEEEE\">sales</span> <span style=\"background-color: #FFF8F8\">iv</span> <span style=\"background-color: #FFF4F4\">access</span> <span style=\"background-color: #FFF4F4\">and</span> <span style=\"background-color: #FFF8F8\">infusion</span> <span style=\"background-color: #F3F3FF\">an</span> <span style=\"background-color: #FFE4E4\">opportunity</span> <span style=\"background-color: #FFFAFA\">to</span> <span style=\"background-color: #FFFCFC\">work</span> <span style=\"background-color: #F2F2FF\">for</span> <span style=\"background-color: #FEFEFF\">the</span> <span style=\"background-color: #F6F6FF\">industry</span> <span style=\"background-color: #FFECEC\">leading</span> <span style=\"background-color: #FFFCFC\">manufacturer</span> <span style=\"background-color: #F3F3FF\">of</span> <span style=\"background-color: #F6F6FF\">iv</span> <span style=\"background-color: #FFF2F2\">access</span> <span style=\"background-color: #FAFAFF\">and</span> <span style=\"background-color: #E8E8FF\">infusion</span> <span style=\"background-color: #BCBCFF\">solutions</span> <span style=\"background-color: #F8F8FF\">.</span> <span style=\"background-color: #D8D8FF\">formally</span> <span style=\"background-color: #F0F0FF\">recognised</span> <span style=\"background-color: #FCFCFF\">as</span> <span style=\"background-color: #FFECEC\">the</span> <span style=\"background-color: #D6D6FF\">number</span> <span style=\"background-color: #CECEFF\">****</span> <span style=\"background-color: #EEEEFF\">company</span> <span style=\"background-color: #FFFEFE\">in</span> <span style=\"background-color: #FFF8F8\">this</span> <span style=\"background-color: #FFF8F8\">market</span> <span style=\"background-color: #FFD8D8\">space</span> <span style=\"background-color: #FEFEFF\">,</span> <span style=\"background-color: #FFFEFE\">our</span> <span style=\"background-color: #F2F2FF\">client</span> <span style=\"background-color: #FCFCFF\">are</span> <span style=\"background-color: #FFE8E8\">an</span> <span style=\"background-color: #FCFCFF\">ethical</span> <span style=\"background-color: #FFF4F4\">and</span> <span style=\"background-color: #FEFEFF\">dynamic</span> <span style=\"background-color: #FFF8F8\">organisation</span> <span style=\"background-color: #F8F8FF\">absolutely</span> <span style=\"background-color: #FCFCFF\">committed</span> <span style=\"background-color: #FEFEFF\">to</span> <span style=\"background-color: #F3F3FF\">the</span> <span style=\"background-color: #F0F0FF\">advancement</span> <span style=\"background-color: #FFFEFE\">of</span> <span style=\"background-color: #FFE4E4\">innovative</span> <span style=\"background-color: #FFFAFA\">technologies</span> <span style=\"background-color: #F0F0FF\">.</span> <span style=\"background-color: #FFFEFE\">job</span> <span style=\"background-color: #FFF4F4\">title</span> <span style=\"background-color: #FFF8F8\">:</span> <span style=\"background-color: #FFFEFE\">sales</span> <span style=\"background-color: #FFFCFC\">specialist</span> <span style=\"background-color: #FFFEFE\">iv</span> <span style=\"background-color: #FFEAEA\">access</span> <span style=\"background-color: #FFFAFA\">and</span> <span style=\"background-color: #FFF8F8\">infusion</span> <span style=\"background-color: #FEFEFF\">selling</span> <span style=\"background-color: #FFFCFC\">:</span> <span style=\"background-color: #FAFAFF\">medication</span> <span style=\"background-color: #F3F3FF\">delivery</span> <span style=\"background-color: #FFF8F8\">solutions</span> <span style=\"background-color: #FFD8D8\">selling</span> <span style=\"background-color: #FFFEFE\">to</span> <span style=\"background-color: #FFECEC\">:</span> <span style=\"background-color: #F2F2FF\">iv</span> <span style=\"background-color: #F2F2FF\">teams</span> <span style=\"background-color: #FCFCFF\">,</span> <span style=\"background-color: #FFCCCC\">infection</span> <span style=\"background-color: #F6F6FF\">control</span> <span style=\"background-color: #FFFEFE\">,</span> <span style=\"background-color: #FFFEFE\">lead</span> <span style=\"background-color: #FFFEFE\">intensive</span> <span style=\"background-color: #F8F8FF\">care</span> <span style=\"background-color: #F2F2FF\">nurse</span> <span style=\"background-color: #FFFAFA\">specialists</span> <span style=\"background-color: #F8F8FF\">,</span> <span style=\"background-color: #FFEEEE\">ward</span> <span style=\"background-color: #FFF8F8\">managers</span> <span style=\"background-color: #FAFAFF\">territory</span> <span style=\"background-color: #FCFCFF\">:</span> <span style=\"background-color: #FFFEFE\">east</span> <span style=\"background-color: #FFFEFE\">midlands</span> <span style=\"background-color: #FFFCFC\">location</span> <span style=\"background-color: #FFFEFE\">:</span> <span style=\"background-color: #FFE6E6\">east</span> <span style=\"background-color: #FFFEFE\">midlands</span> <span style=\"background-color: #FEFEFF\">package</span> <span style=\"background-color: #FCFCFF\">:</span> <span style=\"background-color: #FFF6F6\">basic</span> <span style=\"background-color: #FFFEFE\">:</span> <span style=\"background-color: #FFFEFE\">****</span> <span style=\"background-color: #FFFAFA\">k</span> <span style=\"background-color: #FFFEFE\">****</span> <span style=\"background-color: #FFFCFC\">k</span> <span style=\"background-color: #FAFAFF\">,</span> <span style=\"background-color: #F6F6FF\">uncapped</span> <span style=\"background-color: #FEFEFF\">bonus</span> <span style=\"background-color: #F3F3FF\">in</span> <span style=\"background-color: #F3F3FF\">addition</span> <span style=\"background-color: #FCFCFF\">,</span> <span style=\"background-color: #FFFCFC\">full</span> <span style=\"background-color: #FEFEFF\">corporate</span> <span style=\"background-color: #FEFEFF\">benefits</span> <span style=\"background-color: #FFFEFE\">company</span> <span style=\"background-color: #FFFCFC\">information</span> <span style=\"background-color: #FFF8F8\">hugely</span> <span style=\"background-color: #FEFEFF\">ethical</span> <span style=\"background-color: #FEFEFF\">and</span> <span style=\"background-color: #FCFCFF\">professional</span> <span style=\"background-color: #E3E3FF\">global</span> <span style=\"background-color: #FEFEFF\">organisation</span> <span style=\"background-color: #FEFEFF\">extremely</span> <span style=\"background-color: #EEEEFF\">well</span> <span style=\"background-color: #F8F8FF\">established</span> <span style=\"background-color: #F2F2FF\">in</span> <span style=\"background-color: #FFFEFE\">the</span> <span style=\"background-color: #FFFCFC\">uk</span> <span style=\"background-color: #FEFEFF\">the</span> <span style=\"background-color: #FFF8F8\">market</span> <span style=\"background-color: #FFE8E8\">leader</span> <span style=\"background-color: #F8F8FF\">across</span> <span style=\"background-color: #FAFAFF\">all</span> <span style=\"background-color: #FFEAEA\">of</span> <span style=\"background-color: #F2F2FF\">their</span> <span style=\"background-color: #FFF8F8\">core</span> <span style=\"background-color: #EEEEFF\">business</span> <span style=\"background-color: #FFFCFC\">areas</span> <span style=\"background-color: #FEFEFF\">focus</span> <span style=\"background-color: #FFFCFC\">on</span> <span style=\"background-color: #F8F8FF\">providing</span> <span style=\"background-color: #FFFEFE\">cutting</span> <span style=\"background-color: #FFFEFE\">edge</span> <span style=\"background-color: #FAFAFF\">solutions</span> <span style=\"background-color: #FFE4E4\">along</span> <span style=\"background-color: #FFFAFA\">with</span> <span style=\"background-color: #FFFCFC\">outstanding</span> <span style=\"background-color: #FFF0F0\">service</span> <span style=\"background-color: #FEFEFF\">and</span> <span style=\"background-color: #FFF8F8\">support</span> <span style=\"background-color: #FFF8F8\">a</span> <span style=\"background-color: #FFFEFE\">business</span> <span style=\"background-color: #FFEAEA\">that</span> <span style=\"background-color: #F2F2FF\">retain</span> <span style=\"background-color: #DCDCFF\">talented</span> <span style=\"background-color: #FFF4F4\">personnel</span> <span style=\"background-color: #FFFEFE\">by</span> <span style=\"background-color: #FFFEFE\">offering</span> <span style=\"background-color: #FEFEFF\">a</span> <span style=\"background-color: #FEFEFF\">strong</span> <span style=\"background-color: #FAFAFF\">platform</span> <span style=\"background-color: #FFF6F6\">for</span> <span style=\"background-color: #FFFCFC\">career</span> <span style=\"background-color: #EAEAFF\">development</span> <span style=\"background-color: #F2F2FF\">sales</span> <span style=\"background-color: #FFF4F4\">specialist</span> <span style=\"background-color: #FFFEFE\">iv</span> <span style=\"background-color: #FFF8F8\">access</span> <span style=\"background-color: #FFFAFA\">and</span> <span style=\"background-color: #FFFCFC\">infusion</span> <span style=\"background-color: #FFFCFC\">you</span> <span style=\"background-color: #FFFAFA\">must</span> <span style=\"background-color: #F8F8FF\">have</span> <span style=\"background-color: #FFFAFA\">/</span> <span style=\"background-color: #FAFAFF\">be</span> <span style=\"background-color: #FEFEFF\">the</span> <span style=\"background-color: #FFD6D6\">following</span> <span style=\"background-color: #FFF2F2\">at</span> <span style=\"background-color: #FAFAFF\">least</span> <span style=\"background-color: #FFDEDE\">2</span> <span style=\"background-color: #FFF4F4\">years</span> <span style=\"background-color: #F3F3FF\">medical</span> <span style=\"background-color: #FFF8F8\">device</span> <span style=\"background-color: #FAFAFF\">sales</span> <span style=\"background-color: #FFE2E2\">experience</span> <span style=\"background-color: #FFFAFA\">.</span> <span style=\"background-color: #FFE8E8\">candidates</span> <span style=\"background-color: #FFF6F6\">who</span> <span style=\"background-color: #FFFEFE\">have</span> <span style=\"background-color: #FEFEFF\">sold</span> <span style=\"background-color: #F0F0FF\">disposables</span> <span style=\"background-color: #F2F2FF\">/</span> <span style=\"background-color: #FFF4F4\">consumables</span> <span style=\"background-color: #FAFAFF\">or</span> <span style=\"background-color: #FCFCFF\">similar</span> <span style=\"background-color: #FFFCFC\">into</span> <span style=\"background-color: #F2F2FF\">hospitals</span> <span style=\"background-color: #FFFCFC\">would</span> <span style=\"background-color: #FFF8F8\">be</span> <span style=\"background-color: #F8F8FF\">of</span> <span style=\"background-color: #FFFAFA\">particular</span> <span style=\"background-color: #FFE4E4\">interest</span> <span style=\"background-color: #FFFCFC\">.</span> <span style=\"background-color: #FFFCFC\">candidates</span> <span style=\"background-color: #FFFAFA\">must</span> <span style=\"background-color: #FFF6F6\">have</span> <span style=\"background-color: #F8F8FF\">sold</span> <span style=\"background-color: #FFF4F4\">into</span> <span style=\"background-color: #FCFCFF\">hospitals</span> <span style=\"background-color: #FFE6E6\">demonstrable</span> <span style=\"background-color: #FFFEFE\">performance</span> <span style=\"background-color: #FFFCFC\">and</span> <span style=\"background-color: #F8F8FF\">achievements</span> <span style=\"background-color: #FCFCFF\">so</span> <span style=\"background-color: #ECECFF\">far</span> <span style=\"background-color: #F0F0FF\">personable</span> <span style=\"background-color: #FFECEC\">,</span> <span style=\"background-color: #FEFEFF\">adaptable</span> <span style=\"background-color: #FEFEFF\">and</span> <span style=\"background-color: #FFFEFE\">willing</span> <span style=\"background-color: #FCFCFF\">to</span> <span style=\"background-color: #FFFCFC\">learn</span> <span style=\"background-color: #EEEEFF\">keen</span> <span style=\"background-color: #F3F3FF\">and</span> <span style=\"background-color: #FFF6F6\">eager</span> <span style=\"background-color: #FFFEFE\">to</span> <span style=\"background-color: #FEFEFF\">be</span> <span style=\"background-color: #FFE6E6\">a</span> <span style=\"background-color: #FFFCFC\">success</span> <span style=\"background-color: #FFFAFA\">candidates</span> <span style=\"background-color: #FFF6F6\">must</span> <span style=\"background-color: #FFFEFE\">have</span> <span style=\"background-color: #FFFCFC\">a</span> <span style=\"background-color: #FAFAFF\">degree</span> <span style=\"background-color: #FFECEC\">or</span> <span style=\"background-color: #FFFAFA\">at</span> <span style=\"background-color: #FFF4F4\">least</span> <span style=\"background-color: #FFFEFE\">be</span> <span style=\"background-color: #F6F6FF\">able</span> <span style=\"background-color: #F3F3FF\">to</span> <span style=\"background-color: #F3F3FF\">show</span> <span style=\"background-color: #F8F8FF\">a</span> <span style=\"background-color: #FCFCFF\">strong</span> <span style=\"background-color: #FEFEFF\">ability</span> <span style=\"background-color: #FFFEFE\">to</span> <span style=\"background-color: #F3F3FF\">learn</span> <span style=\"background-color: #F3F3FF\">role</span> <span style=\"background-color: #FFFEFE\">information</span> <span style=\"background-color: #FAFAFF\">managing</span> <span style=\"background-color: #FEFEFF\">the</span> <span style=\"background-color: #F3F3FF\">east</span> <span style=\"background-color: #FEFEFF\">midlands</span> <span style=\"background-color: #FFFCFC\">region</span> <span style=\"background-color: #FEFEFF\">selling</span> <span style=\"background-color: #FFFEFE\">across</span> <span style=\"background-color: #FFF8F8\">the</span> <span style=\"background-color: #FFE0E0\">company</span> <span style=\"background-color: #FAFAFF\">'</span> <span style=\"background-color: #FFEEEE\">s</span> <span style=\"background-color: #FCFCFF\">range</span> <span style=\"background-color: #FFE2E2\">of</span> <span style=\"background-color: #FFFEFE\">iv</span> <span style=\"background-color: #FFFCFC\">and</span> <span style=\"background-color: #EEEEFF\">infusion</span> <span style=\"background-color: #E8E8FF\">solutions</span> <span style=\"background-color: #FFFEFE\">portfolio</span> <span style=\"background-color: #FFFAFA\">selling</span> <span style=\"background-color: #FFF2F2\">into</span> <span style=\"background-color: #FAFAFF\">lead</span> <span style=\"background-color: #E3E3FF\">intensive</span> <span style=\"background-color: #F3F3FF\">care</span> <span style=\"background-color: #E8E8FF\">nurse</span> <span style=\"background-color: #FFFEFE\">specialists</span> <span style=\"background-color: #FCFCFF\">,</span> <span style=\"background-color: #FCFCFF\">ward</span> <span style=\"background-color: #FFF8F8\">managers</span> <span style=\"background-color: #F8F8FF\">,</span> <span style=\"background-color: #D8D8FF\">iv</span> <span style=\"background-color: #E2E2FF\">teams</span> <span style=\"background-color: #F0F0FF\">,</span> <span style=\"background-color: #FFDCDC\">infection</span> <span style=\"background-color: #F8F8FF\">control</span> <span style=\"background-color: #FFFEFE\">teams</span> <span style=\"background-color: #FFE8E8\">,</span> <span style=\"background-color: #F6F6FF\">procurement</span> <span style=\"background-color: #FFF6F6\">sales</span> <span style=\"background-color: #FEFEFF\">specialist</span> <span style=\"background-color: #FFFAFA\">iv</span> <span style=\"background-color: #FAFAFF\">access</span> <span style=\"background-color: #FFF8F8\">and</span> <span style=\"background-color: #FFFEFE\">infusion</span> <span style=\"background-color: #FFFCFC\">candidates</span> <span style=\"background-color: #FFF8F8\">must</span> <span style=\"background-color: #FFFEFE\">be</span> <span style=\"background-color: #FFE8E8\">eligible</span> <span style=\"background-color: #FFE8E8\">to</span> <span style=\"background-color: #FFFEFE\">work</span> <span style=\"background-color: #FFF4F4\">and</span> <span style=\"background-color: #FEFEFF\">live</span> <span style=\"background-color: #F6F6FF\">in</span> <span style=\"background-color: #FFECEC\">the</span> <span style=\"background-color: #FFFEFE\">uk</span> <span style=\"background-color: #FEFEFF\">.</span> <span style=\"background-color: #E8E8FF\">please</span> <span style=\"background-color: #E8E8FF\">contact</span> <span style=\"background-color: #EAEAFF\">allan</span> <span style=\"background-color: #FFF4F4\">waller</span> <span style=\"background-color: #FFFCFC\">on</span> <span style=\"background-color: #F8F8FF\">****</span> <span style=\"background-color: #EAEAFF\">****</span> <span style=\"background-color: #DEDEFF\">****</span> <span style=\"background-color: #FAFAFF\">or</span> <span style=\"background-color: #F8F8FF\">please</span> <span style=\"background-color: #F3F3FF\">hit</span> <span style=\"background-color: #F6F6FF\">the</span> <span style=\"background-color: #FFFEFE\">apply</span> <span style=\"background-color: #FFEAEA\">button</span> <span style=\"background-color: #FAFAFF\">.</span> <span style=\"background-color: #FFFAFA\">this</span> <span style=\"background-color: #FFFCFC\">job</span> <span style=\"background-color: #E8E8FF\">was</span> <span style=\"background-color: #F8F8FF\">originally</span> <span style=\"background-color: #F6F6FF\">posted</span> <span style=\"background-color: #F0F0FF\">as</span> <span style=\"background-color: #FEFEFF\">www</span> <span style=\"background-color: #FFF4F4\">.</span> <span style=\"background-color: #FFFCFC\">salestarget</span> <span style=\"background-color: #FFF6F6\">.</span> <span style=\"background-color: #FFFAFA\">co</span> <span style=\"background-color: #FFF2F2\">.</span> <span style=\"background-color: #FFF6F6\">uk</span> <span style=\"background-color: #ECECFF\">/</span> <span style=\"background-color: #F8F8FF\">jobseeking</span> <span style=\"background-color: #FFF0F0\">/</span> <span style=\"background-color: #FFFEFE\">UNK</span> <span style=\"background-color: #FFFEFE\">****</span></p>"
      ]
     },
     "metadata": {},
     "output_type": "display_data"
    }
   ],
   "source": [
    "model.cpu()\n",
    "\n",
    "i = 36605\n",
    "tokens_and_weights = explain(model, data.loc[i], \"Title\")\n",
    "draw_html([(tok, weight * 5) for tok, weight in tokens_and_weights], font_style='font-size:20px;');\n",
    "\n",
    "tokens_and_weights = explain(model, data.loc[i], \"FullDescription\")\n",
    "draw_html([(tok, weight * 10) for tok, weight in tokens_and_weights]);"
   ]
  },
  {
   "cell_type": "code",
   "execution_count": 36,
   "metadata": {},
   "outputs": [
    {
     "data": {
      "text/html": [
       "<p style=\"font-size:20px;\"><span style=\"background-color: #9A9AFF\">cleaning</span> <span style=\"background-color: #FFECEC\">operative</span></p>"
      ]
     },
     "metadata": {},
     "output_type": "display_data"
    },
    {
     "data": {
      "text/html": [
       "<p style=\"font-size:14px;\"><span style=\"background-color: #FEFEFF\">12</span> <span style=\"background-color: #EEEEFF\">.</span> <span style=\"background-color: #CACAFF\">5</span> <span style=\"background-color: #D8D8FF\">hours</span> <span style=\"background-color: #FFF4F4\">per</span> <span style=\"background-color: #F8F8FF\">week</span> <span style=\"background-color: #BCBCFF\">monday</span> <span style=\"background-color: #FFF0F0\">friday</span> <span style=\"background-color: #FFF8F8\">9am</span> <span style=\"background-color: #FCFCFF\">11</span> <span style=\"background-color: #FFF4F4\">.</span> <span style=\"background-color: #EEEEFF\">30am</span> <span style=\"background-color: #FFE8E8\">duties</span> <span style=\"background-color: #FFECEC\">to</span> <span style=\"background-color: #FFFEFE\">include</span> <span style=\"background-color: #FEFEFF\">sweeping</span> <span style=\"background-color: #E3E3FF\">,</span> <span style=\"background-color: #D2D2FF\">mopping</span> <span style=\"background-color: #F2F2FF\">,</span> <span style=\"background-color: #FEFEFF\">vacuuming</span> <span style=\"background-color: #FFF2F2\">,</span> <span style=\"background-color: #E3E3FF\">buffing</span> <span style=\"background-color: #FFF6F6\">,</span> <span style=\"background-color: #E6E6FF\">cleaning</span> <span style=\"background-color: #FAFAFF\">staff</span> <span style=\"background-color: #FFF4F4\">toilets</span> <span style=\"background-color: #FFE2E2\">and</span> <span style=\"background-color: #FFEEEE\">rest</span> <span style=\"background-color: #E8E8FF\">room</span> <span style=\"background-color: #FFD2D2\">.</span> <span style=\"background-color: #E0E0FF\">must</span> <span style=\"background-color: #FFDADA\">be</span> <span style=\"background-color: #FFFCFC\">able</span> <span style=\"background-color: #E8E8FF\">to</span> <span style=\"background-color: #FFEEEE\">read</span> <span style=\"background-color: #CECEFF\">as</span> <span style=\"background-color: #FFC6C6\">they</span> <span style=\"background-color: #FFF8F8\">will</span> <span style=\"background-color: #FFE0E0\">be</span> <span style=\"background-color: #EEEEFF\">using</span> <span style=\"background-color: #FFFEFE\">UNK</span> <span style=\"background-color: #FFFEFE\">which</span> <span style=\"background-color: #FFFEFE\">need</span> <span style=\"background-color: #FFFEFE\">UNK</span> <span style=\"background-color: #F2F2FF\">as</span> <span style=\"background-color: #FFCCCC\">per</span> <span style=\"background-color: #FFE6E6\">instructions</span> <span style=\"background-color: #FCFCFF\">on</span> <span style=\"background-color: #FFEEEE\">the</span> <span style=\"background-color: #D2D2FF\">containers</span> <span style=\"background-color: #FFE2E2\">.</span> <span style=\"background-color: #C8C8FF\">sucessfull</span> <span style=\"background-color: #CACAFF\">applicants</span> <span style=\"background-color: #FFD6D6\">will</span> <span style=\"background-color: #FFDEDE\">be</span> <span style=\"background-color: #F6F6FF\">trained</span> <span style=\"background-color: #ECECFF\">on</span> <span style=\"background-color: #ECECFF\">all</span> <span style=\"background-color: #FFF4F4\">electrical</span> <span style=\"background-color: #FFCECE\">appliances</span> <span style=\"background-color: #F2F2FF\">and</span> <span style=\"background-color: #FFFEFE\">UNK</span> <span style=\"background-color: #F2F2FF\">of</span> <span style=\"background-color: #E3E3FF\">cleaning</span> <span style=\"background-color: #FFF8F8\">materials</span> <span style=\"background-color: #F6F6FF\">.</span></p>"
      ]
     },
     "metadata": {},
     "output_type": "display_data"
    }
   ],
   "source": [
    "i = 12077\n",
    "tokens_and_weights = explain(model, data.loc[i], \"Title\")\n",
    "draw_html([(tok, weight * 5) for tok, weight in tokens_and_weights], font_style='font-size:20px;');\n",
    "\n",
    "tokens_and_weights = explain(model, data.loc[i], \"FullDescription\")\n",
    "draw_html([(tok, weight * 10) for tok, weight in tokens_and_weights]);"
   ]
  },
  {
   "cell_type": "code",
   "execution_count": 37,
   "metadata": {},
   "outputs": [
    {
     "name": "stdout",
     "output_type": "stream",
     "text": [
      "Index: 208507\n",
      "Salary (gbp): 3232.9976199779226\n"
     ]
    },
    {
     "data": {
      "text/html": [
       "<p style=\"font-size:20px;\"><span style=\"background-color: #D3D3FF\">real</span> <span style=\"background-color: #FFD3D3\">estate</span> <span style=\"background-color: #A0A0FF\">solicitor</span></p>"
      ]
     },
     "metadata": {},
     "output_type": "display_data"
    },
    {
     "data": {
      "text/html": [
       "<p style=\"font-size:14px;\"><span style=\"background-color: #EEEEFF\">this</span> <span style=\"background-color: #FFEEEE\">is</span> <span style=\"background-color: #FFFEFE\">an</span> <span style=\"background-color: #F3F3FF\">outstanding</span> <span style=\"background-color: #E8E8FF\">opportunity</span> <span style=\"background-color: #F8F8FF\">for</span> <span style=\"background-color: #E3E3FF\">a</span> <span style=\"background-color: #F6F6FF\">junior</span> <span style=\"background-color: #DADAFF\">real</span> <span style=\"background-color: #EEEEFF\">estate</span> <span style=\"background-color: #EEEEFF\">/</span> <span style=\"background-color: #DADAFF\">commercial</span> <span style=\"background-color: #FFB6B6\">property</span> <span style=\"background-color: #FFF4F4\">solicitor</span> <span style=\"background-color: #FFF8F8\">to</span> <span style=\"background-color: #FCFCFF\">join</span> <span style=\"background-color: #FFF6F6\">a</span> <span style=\"background-color: #FFFEFE\">genuinely</span> <span style=\"background-color: #FFFEFE\">UNK</span> <span style=\"background-color: #FCFCFF\">firm</span> <span style=\"background-color: #FAFAFF\">.</span> <span style=\"background-color: #F8F8FF\">the</span> <span style=\"background-color: #FFE8E8\">role</span> <span style=\"background-color: #FCFCFF\">would</span> <span style=\"background-color: #FFECEC\">suit</span> <span style=\"background-color: #DEDEFF\">a</span> <span style=\"background-color: #AEAEFF\">qualified</span> <span style=\"background-color: #FFDEDE\">property</span> <span style=\"background-color: #F8F8FF\">solicitor</span> <span style=\"background-color: #EEEEFF\">with</span> <span style=\"background-color: #F6F6FF\">no</span> <span style=\"background-color: #FEFEFF\">more</span> <span style=\"background-color: #FFF6F6\">than</span> <span style=\"background-color: #FFE2E2\">3</span> <span style=\"background-color: #FFF8F8\">years</span> <span style=\"background-color: #EAEAFF\">pqe</span> <span style=\"background-color: #FFE4E4\">,</span> <span style=\"background-color: #E3E3FF\">who</span> <span style=\"background-color: #FCFCFF\">is</span> <span style=\"background-color: #FCFCFF\">perhaps</span> <span style=\"background-color: #FFFEFE\">UNK</span> <span style=\"background-color: #E2E2FF\">with</span> <span style=\"background-color: #E0E0FF\">life</span> <span style=\"background-color: #F3F3FF\">in</span> <span style=\"background-color: #FFFAFA\">a</span> <span style=\"background-color: #FFFCFC\">large</span> <span style=\"background-color: #ECECFF\">city</span> <span style=\"background-color: #E2E2FF\">real</span> <span style=\"background-color: #FFF2F2\">estate</span> <span style=\"background-color: #FFFEFE\">practice</span> <span style=\"background-color: #FEFEFF\">but</span> <span style=\"background-color: #FFFCFC\">wants</span> <span style=\"background-color: #FEFEFF\">to</span> <span style=\"background-color: #FAFAFF\">retain</span> <span style=\"background-color: #FFF8F8\">a</span> <span style=\"background-color: #FCFCFF\">high</span> <span style=\"background-color: #FFFCFC\">calibre</span> <span style=\"background-color: #FFEAEA\">of</span> <span style=\"background-color: #FFFEFE\">work</span> <span style=\"background-color: #FAFAFF\">and</span> <span style=\"background-color: #FFF4F4\">a</span> <span style=\"background-color: #FFFEFE\">competitive</span> <span style=\"background-color: #FFFEFE\">city</span> <span style=\"background-color: #FCFCFF\">package</span> <span style=\"background-color: #FCFCFF\">.</span> <span style=\"background-color: #FFFAFA\">whilst</span> <span style=\"background-color: #FFE2E2\">being</span> <span style=\"background-color: #FAFAFF\">smaller</span> <span style=\"background-color: #E8E8FF\">than</span> <span style=\"background-color: #FFFAFA\">some</span> <span style=\"background-color: #ECECFF\">of</span> <span style=\"background-color: #F3F3FF\">the</span> <span style=\"background-color: #FFFAFA\">city</span> <span style=\"background-color: #FFFAFA\">giants</span> <span style=\"background-color: #FEFEFF\">but</span> <span style=\"background-color: #FFF2F2\">maintaining</span> <span style=\"background-color: #FEFEFF\">a</span> <span style=\"background-color: #F2F2FF\">reputation</span> <span style=\"background-color: #FFFAFA\">amongst</span> <span style=\"background-color: #ECECFF\">them</span> <span style=\"background-color: #EEEEFF\">,</span> <span style=\"background-color: #FFE2E2\">the</span> <span style=\"background-color: #FFF2F2\">firm</span> <span style=\"background-color: #FFE4E4\">has</span> <span style=\"background-color: #FFF6F6\">all</span> <span style=\"background-color: #FFE6E6\">the</span> <span style=\"background-color: #FFE8E8\">resources</span> <span style=\"background-color: #FFD6D6\">to</span> <span style=\"background-color: #FFF6F6\">support</span> <span style=\"background-color: #FFD3D3\">and</span> <span style=\"background-color: #FFF4F4\">train</span> <span style=\"background-color: #FFEEEE\">some</span> <span style=\"background-color: #FFFCFC\">of</span> <span style=\"background-color: #FFEEEE\">the</span> <span style=\"background-color: #FEFEFF\">best</span> <span style=\"background-color: #FFF2F2\">solicitors</span> <span style=\"background-color: #FFEAEA\">in</span> <span style=\"background-color: #FFF4F4\">the</span> <span style=\"background-color: #F0F0FF\">city</span> <span style=\"background-color: #ECECFF\">.</span> <span style=\"background-color: #FFF2F2\">due</span> <span style=\"background-color: #F6F6FF\">to</span> <span style=\"background-color: #FFF2F2\">the</span> <span style=\"background-color: #F8F8FF\">quality</span> <span style=\"background-color: #F2F2FF\">of</span> <span style=\"background-color: #FFF2F2\">the</span> <span style=\"background-color: #F0F0FF\">firm</span> <span style=\"background-color: #FFEEEE\">in</span> <span style=\"background-color: #FFF4F4\">question</span> <span style=\"background-color: #FFF8F8\">,</span> <span style=\"background-color: #FFDEDE\">the</span> <span style=\"background-color: #FFF8F8\">successful</span> <span style=\"background-color: #FFFAFA\">candidate</span> <span style=\"background-color: #FFEEEE\">will</span> <span style=\"background-color: #FCFCFF\">come</span> <span style=\"background-color: #FFDADA\">from</span> <span style=\"background-color: #FEFEFF\">the</span> <span style=\"background-color: #FEFEFF\">magic</span> <span style=\"background-color: #FFE6E6\">/</span> <span style=\"background-color: #FFECEC\">silver</span> <span style=\"background-color: #FFFEFE\">circle</span> <span style=\"background-color: #CECEFF\">or</span> <span style=\"background-color: #E3E3FF\">a</span> <span style=\"background-color: #FFFCFC\">leading</span> <span style=\"background-color: #FAFAFF\">property</span> <span style=\"background-color: #FFFCFC\">department</span> <span style=\"background-color: #F6F6FF\">.</span> <span style=\"background-color: #FAFAFF\">a</span> <span style=\"background-color: #EEEEFF\">strong</span> <span style=\"background-color: #FEFEFF\">academic</span> <span style=\"background-color: #FFFCFC\">background</span> <span style=\"background-color: #FFF4F4\">,</span> <span style=\"background-color: #FFFCFC\">minimum</span> <span style=\"background-color: #FFFAFA\">of</span> <span style=\"background-color: #F8F8FF\">a</span> <span style=\"background-color: #FFFEFE\">****:****</span> <span style=\"background-color: #F2F2FF\">from</span> <span style=\"background-color: #FFF4F4\">a</span> <span style=\"background-color: #FFF8F8\">russell</span> <span style=\"background-color: #FFF6F6\">group</span> <span style=\"background-color: #F3F3FF\">university</span> <span style=\"background-color: #F8F8FF\">and</span> <span style=\"background-color: #EAEAFF\">strong</span> <span style=\"background-color: #FFF6F6\">alevels</span> <span style=\"background-color: #FFFCFC\">is</span> <span style=\"background-color: #FFFEFE\">also</span> <span style=\"background-color: #FAFAFF\">required</span> <span style=\"background-color: #FCFCFF\">.</span> <span style=\"background-color: #F8F8FF\">for</span> <span style=\"background-color: #FCFCFF\">a</span> <span style=\"background-color: #C8C8FF\">discreet</span> <span style=\"background-color: #D2D2FF\">conversation</span> <span style=\"background-color: #B0B0FF\">about</span> <span style=\"background-color: #ECECFF\">this</span> <span style=\"background-color: #FCFCFF\">unique</span> <span style=\"background-color: #FCFCFF\">opportunity</span> <span style=\"background-color: #C3C3FF\">,</span> <span style=\"background-color: #C6C6FF\">contact</span> <span style=\"background-color: #A8A8FF\">michael</span> <span style=\"background-color: #FFFEFE\">UNK</span> <span style=\"background-color: #F2F2FF\">at</span> <span style=\"background-color: #FFFCFC\">chase</span> <span style=\"background-color: #EEEEFF\">portland</span> <span style=\"background-color: #FFFCFC\">.</span></p>"
      ]
     },
     "metadata": {},
     "output_type": "display_data"
    }
   ],
   "source": [
    "i = np.random.randint(len(data))\n",
    "print(\"Index:\", i)\n",
    "print(\"Salary (gbp):\", np.expm1(model(make_batch(data.iloc[i: i+1], torch.device('cpu'))).item()))\n",
    "\n",
    "tokens_and_weights = explain(model, data.loc[i], \"Title\")\n",
    "draw_html([(tok, weight * 5) for tok, weight in tokens_and_weights], font_style='font-size:20px;');\n",
    "\n",
    "tokens_and_weights = explain(model, data.loc[i], \"FullDescription\")\n",
    "draw_html([(tok, weight * 10) for tok, weight in tokens_and_weights]);"
   ]
  },
  {
   "cell_type": "markdown",
   "metadata": {},
   "source": [
    "__Terrible start-up idea #1962:__ make a tool that automaticaly rephrases your job description (or CV) to meet salary expectations :)"
   ]
  }
 ],
 "metadata": {
  "kernelspec": {
   "display_name": "nlp_course",
   "language": "python",
   "name": "nlp_course"
  },
  "language_info": {
   "codemirror_mode": {
    "name": "ipython",
    "version": 3
   },
   "file_extension": ".py",
   "mimetype": "text/x-python",
   "name": "python",
   "nbconvert_exporter": "python",
   "pygments_lexer": "ipython3",
   "version": "3.6.13"
  }
 },
 "nbformat": 4,
 "nbformat_minor": 4
}
